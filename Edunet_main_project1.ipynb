{
 "cells": [
  {
   "cell_type": "code",
   "execution_count": null,
   "id": "2bc1ced2",
   "metadata": {
    "id": "1395a9f9-7a7c-4e03-823b-a17e6870d52f",
    "msg_id": "acf4a54a-e910-4d61-9d33-178b5ec7df85"
   },
   "outputs": [],
   "source": [
    "import torch \n",
    "import torchvision\n",
    "import numpy as np\n",
    "import matplotlib\n",
    "import matplotlib.pyplot as plt\n",
    "import torch.nn as nn\n",
    "import torch.nn.functional as F\n",
    "from torchvision.transforms import ToTensor\n",
    "from torch.utils.data.dataloader import DataLoader\n",
    "from torch.utils.data import random_split,TensorDataset\n",
    "import pandas as pd\n",
    "import numpy as np"
   ]
  },
  {
   "cell_type": "code",
   "execution_count": null,
   "id": "7024b78a",
   "metadata": {
    "id": "d5cba327-de01-469e-9139-bb92732a98b0",
    "msg_id": "4fabfcf2-e01c-44be-9535-1485dc7e15ec"
   },
   "outputs": [],
   "source": [
    "\n",
    "import os, types\n",
    "import pandas as pd\n",
    "from botocore.client import Config\n",
    "import ibm_boto3\n",
    "\n",
    "def __iter__(self): return 0\n",
    "\n",
    "# @hidden_cell\n",
    "# The following code accesses a file in your IBM Cloud Object Storage. It includes your credentials.\n",
    "# You might want to remove those credentials before you share the notebook.\n",
    "\n",
    "bucket = 'project-donotdelete-pr-xgn2pqshhnke7i'\n",
    "object_key = 'Train_data.csv'\n",
    "\n",
    "body = cos_client.get_object(Bucket=bucket,Key=object_key)['Body']\n",
    "# add missing __iter__ method, so pandas accepts body as file-like object\n",
    "if not hasattr(body, \"__iter__\"): body.__iter__ = types.MethodType( __iter__, body )\n",
    "\n",
    "df= pd.read_csv(body)\n",
    "\n"
   ]
  },
  {
   "cell_type": "code",
   "execution_count": null,
   "id": "13ca296b",
   "metadata": {
    "id": "e377bce5-8ad4-4a1f-958f-16a623a937d8",
    "msg_id": "e4ee5c94-97e3-4d7d-9f96-88f567a86615"
   },
   "outputs": [],
   "source": [
    "df.info()"
   ]
  },
  {
   "cell_type": "code",
   "execution_count": null,
   "id": "1fcbc3c0",
   "metadata": {
    "id": "c1f350e4-8a83-4c69-8cc7-b385a37f6848",
    "msg_id": "bf8f428b-24d8-4c9e-80f5-23ead9c78af3"
   },
   "outputs": [],
   "source": [
    "df.describe()"
   ]
  },
  {
   "cell_type": "code",
   "execution_count": null,
   "id": "bbb4b0aa",
   "metadata": {
    "id": "6c77921c-f26b-43ed-b2b3-a283faf3b47c",
    "msg_id": "c0816f11-7c24-4ce4-b224-e89e214e4525"
   },
   "outputs": [],
   "source": [
    "df.nunique()"
   ]
  },
  {
   "cell_type": "code",
   "execution_count": null,
   "id": "e18999a9",
   "metadata": {
    "id": "61e80502-22b7-49ea-b2d7-eaacab290da9",
    "msg_id": "879c9490-a543-4b68-9438-ca6c3e35bbc5"
   },
   "outputs": [],
   "source": [
    "df['class'].value_counts()"
   ]
  },
  {
   "cell_type": "code",
   "execution_count": null,
   "id": "f6e21c7f",
   "metadata": {
    "id": "f3f4cd42-9c1c-43ca-be69-3d4b3521cc86",
    "msg_id": "9445f205-12b7-4bf4-a6e6-0fd9b618e7f7"
   },
   "outputs": [],
   "source": [
    "X = df.drop('class', axis=1)\n",
    "y = df['class']"
   ]
  },
  {
   "cell_type": "code",
   "execution_count": null,
   "id": "0e3dd183",
   "metadata": {
    "id": "e628df4d-42af-47a9-9c17-0450991f46e6",
    "msg_id": "c316d939-b106-47d7-b984-29af30d58dfb"
   },
   "outputs": [],
   "source": [
    "mapping={'normal':1,'anomaly':0}\n",
    "y=y.map(mapping)"
   ]
  },
  {
   "cell_type": "code",
   "execution_count": null,
   "id": "da5af0d0",
   "metadata": {
    "id": "4678497a-d819-48b9-9c1e-4c6df7a8857f",
    "msg_id": "0f595824-8f78-4f0e-8d15-41517f8cf6d6"
   },
   "outputs": [],
   "source": [
    "y.info()"
   ]
  },
  {
   "cell_type": "code",
   "execution_count": null,
   "id": "b59819f0",
   "metadata": {
    "id": "2e89a4fc-298f-4a22-bc93-24c7140070fa",
    "msg_id": "7bd39185-9b8f-4e5d-9c4f-4145f7c14552"
   },
   "outputs": [],
   "source": [
    "categorical_features = X.select_dtypes(include=['object']).columns\n",
    "numerical_features = X.select_dtypes(include=np.number).columns"
   ]
  },
  {
   "cell_type": "code",
   "execution_count": null,
   "id": "061ae257",
   "metadata": {
    "id": "02794e55-a014-441e-a3b2-104e3b33525f",
    "msg_id": "fe4e7aa2-eee4-4f56-95ac-19526c26d1a4"
   },
   "outputs": [],
   "source": [
    "from sklearn.preprocessing import OneHotEncoder\n",
    "from sklearn.compose import ColumnTransformer"
   ]
  },
  {
   "cell_type": "code",
   "execution_count": null,
   "id": "61a87b1e",
   "metadata": {
    "id": "0b15d50d-30f6-4e1e-9c46-9bf10a05ea42",
    "msg_id": "38739243-463a-4d90-9eae-fd7dfe1a8a0d"
   },
   "outputs": [],
   "source": [
    "from sklearn.preprocessing import StandardScaler, OneHotEncoder\n",
    "from sklearn.compose import ColumnTransformer\n",
    "from sklearn.pipeline import Pipeline\n",
    "from sklearn.model_selection import train_test_split"
   ]
  },
  {
   "cell_type": "code",
   "execution_count": null,
   "id": "dc5c8b11",
   "metadata": {
    "id": "9862c58f-be67-48f3-bafa-ffe5c3fba363",
    "msg_id": "0fe3885f-80ff-4af8-a5c4-3aab186bb4ca"
   },
   "outputs": [],
   "source": [
    "numeric_transformer = StandardScaler()"
   ]
  },
  {
   "cell_type": "code",
   "execution_count": null,
   "id": "36eda9fd",
   "metadata": {
    "id": "0c1ddedc-1776-4283-93ca-0cd708d1a042",
    "msg_id": "9f6483fe-9c61-49b5-a2dc-0191d9228d44"
   },
   "outputs": [],
   "source": [
    "categorical_transformer = OneHotEncoder(handle_unknown='ignore')"
   ]
  },
  {
   "cell_type": "code",
   "execution_count": null,
   "id": "a28394df",
   "metadata": {
    "id": "3c549bba-5d33-488e-810c-2c8915694db2",
    "msg_id": "27972754-6d92-4ac6-8d55-b7f94f27c5cf"
   },
   "outputs": [],
   "source": [
    "\n",
    "preprocessor = ColumnTransformer(\n",
    "    transformers=[\n",
    "        ('num', numeric_transformer, numerical_features),\n",
    "        ('cat', categorical_transformer, categorical_features)\n",
    "    ])\n"
   ]
  },
  {
   "cell_type": "code",
   "execution_count": null,
   "id": "3c8a4726",
   "metadata": {
    "id": "ce2bc81d-5f77-4d81-9efe-613c783df5ac",
    "msg_id": "e5baa5a9-6f7c-4f62-abe1-d2c3b8d040d6"
   },
   "outputs": [],
   "source": [
    "x_train, x_val, y_train, y_val = train_test_split(X, y, test_size=0.2, random_state=42,stratify=y)"
   ]
  },
  {
   "cell_type": "code",
   "execution_count": null,
   "id": "d1b374c0",
   "metadata": {
    "id": "1ad63d0c-3f07-4afa-adf3-c22392fe2805",
    "msg_id": "da92ae86-08af-4fd6-a8ee-fb3a0c8be7ea"
   },
   "outputs": [],
   "source": [
    "x_train = preprocessor.fit_transform(x_train)\n",
    "x_val = preprocessor.transform(x_val)"
   ]
  },
  {
   "cell_type": "code",
   "execution_count": null,
   "id": "cf4a2c31",
   "metadata": {
    "id": "5b8d57cb-631e-4357-b85e-f91081a7b799",
    "msg_id": "5107f839-6555-4478-becf-d2368ced1bdd"
   },
   "outputs": [],
   "source": [
    "type(x_val)"
   ]
  },
  {
   "cell_type": "code",
   "execution_count": null,
   "id": "b6a0be05",
   "metadata": {
    "id": "79226242-0ed6-4f29-bf8f-7789426e466f",
    "msg_id": "c177d291-ddfb-46ba-8288-0fad3ea17e39"
   },
   "outputs": [],
   "source": [
    "type(y_val)"
   ]
  },
  {
   "cell_type": "code",
   "execution_count": null,
   "id": "88478301",
   "metadata": {
    "id": "c41c62e3-37e6-496f-9687-31f1573f3527",
    "msg_id": "e359cdf9-e432-434c-b9c9-d518f89b5190"
   },
   "outputs": [],
   "source": [
    "x_train_tensor = torch.tensor(x_train, dtype=torch.float32)\n",
    "y_train_tensor = torch.tensor(y_train.values, dtype=torch.long)\n",
    "x_val_tensor = torch.tensor(x_val, dtype=torch.float32)\n",
    "y_val_tensor = torch.tensor(y_val.values, dtype=torch.long)"
   ]
  },
  {
   "cell_type": "code",
   "execution_count": null,
   "id": "bbfc0cea",
   "metadata": {
    "id": "3ccac596-2886-4411-9c5f-a84f4dd65f8b",
    "msg_id": "d2bc9348-c388-4907-bd1e-55f833a2d22c"
   },
   "outputs": [],
   "source": [
    "train_ds = TensorDataset(x_train_tensor, y_train_tensor)\n",
    "val_ds = TensorDataset(x_val_tensor, y_val_tensor)"
   ]
  },
  {
   "cell_type": "code",
   "execution_count": null,
   "id": "99262bad",
   "metadata": {
    "id": "64fdd22f-dab3-499b-9da5-15b470be03bf",
    "msg_id": "563c032c-d1f4-4c01-968c-73827bf5e68e"
   },
   "outputs": [],
   "source": [
    "batch_size=128"
   ]
  },
  {
   "cell_type": "code",
   "execution_count": null,
   "id": "c6672c43",
   "metadata": {
    "id": "a8a6ca5a-fe31-4b00-93f0-245af854d43b",
    "msg_id": "bc654889-e333-40c0-a7c2-baa7e2b1ab23"
   },
   "outputs": [],
   "source": [
    "train_loader=DataLoader(train_ds,batch_size,shuffle=True,num_workers=10)\n",
    "val_loader=DataLoader(val_ds,batch_size*2,num_workers=10)"
   ]
  },
  {
   "cell_type": "code",
   "execution_count": null,
   "id": "153e0d1d",
   "metadata": {
    "id": "51cd402e-3fe2-42a9-a6ee-ffad6ec782c8",
    "msg_id": "709c0927-8631-4c65-958b-644f2502de59"
   },
   "outputs": [],
   "source": [
    "input_size = x_train.shape[1]\n",
    "output_classes = len(y.unique())\n",
    "print(input_size)\n",
    "print(output_classes)"
   ]
  },
  {
   "cell_type": "code",
   "execution_count": null,
   "id": "5f184323",
   "metadata": {
    "id": "4361ea64-bdc1-4f73-90b4-41c9d5d354af",
    "msg_id": "e4dc5243-d168-40e6-9943-b8cd42bb8154"
   },
   "outputs": [],
   "source": [
    "def accuracy(outputs,targets):\n",
    "    _,preds=torch.max(outputs,dim=1)\n",
    "    return torch.tensor(torch.sum(preds==targets).item()/len(preds))"
   ]
  },
  {
   "cell_type": "code",
   "execution_count": null,
   "id": "f068a7e2",
   "metadata": {
    "id": "abb544e3-b747-4efb-b616-1e33d838cef5",
    "msg_id": "0416778a-f187-4338-b5fe-db0471f51543"
   },
   "outputs": [],
   "source": [
    "class Base(nn.Module):\n",
    "    def training_step(self, batch):\n",
    "        features, targets = batch \n",
    "        out = self(features)\n",
    "        loss = F.cross_entropy(out, targets)\n",
    "        return loss\n",
    "\n",
    "    def validation_step(self, batch):\n",
    "        features, targets = batch\n",
    "        out = self(features)\n",
    "        loss = F.cross_entropy(out, targets)\n",
    "        acc = accuracy(out, targets)\n",
    "        \n",
    "        return {'val_loss': loss.detach(), 'val_acc': acc}\n",
    "\n",
    "    def validation_epoch_end(self, outputs):\n",
    "        batch_losses = [x['val_loss'] for x in outputs] \n",
    "        epoch_loss = torch.stack(batch_losses).mean()\n",
    "        batch_accs = [x['val_acc'] for x in outputs]\n",
    "        epoch_acc = torch.stack(batch_accs).mean()\n",
    "    \n",
    "        return {'val_loss': epoch_loss.item(), 'val_acc': epoch_acc.item()}\n",
    "\n",
    "    def epoch_end(self, epoch, result):\n",
    "        print(f\"Epoch [{epoch+1}], train_loss: {result['train_loss']:.4f}, val_loss: {result['val_loss']:.4f}, val_acc: {result['val_acc']:.4f}\")"
   ]
  },
  {
   "cell_type": "code",
   "execution_count": null,
   "id": "c5f323e0",
   "metadata": {
    "id": "aee5f073-af59-4779-875a-3d08ef73567c",
    "msg_id": "b083f93b-218f-4df8-8343-d75c600709d2"
   },
   "outputs": [],
   "source": [
    "class IntrusionClassifier(Base):\n",
    "    def __init__(self,dropout):\n",
    "        super().__init__()\n",
    "        self.linear1=nn.Linear(input_size,64)\n",
    "        self.linear2=nn.Linear(64,output_classes)\n",
    "        self.relu=nn.ReLU()\n",
    "        self.dropout = nn.Dropout(p=dropout)\n",
    "\n",
    "    \n",
    "    def forward(self,xb):\n",
    "        xb=self.linear1(xb)\n",
    "        xb=self.relu(xb)\n",
    "        xb=self.dropout(xb)\n",
    "        xb=self.linear2(xb)\n",
    "        return xb\n",
    "\n"
   ]
  },
  {
   "cell_type": "code",
   "execution_count": null,
   "id": "e62ff536",
   "metadata": {
    "id": "75ea2205-9998-472b-8c8c-39350d466a31",
    "msg_id": "1bb3bbf2-ebb4-4281-b533-fe6e768857f7"
   },
   "outputs": [],
   "source": [
    "model=IntrusionClassifier(0.5)"
   ]
  },
  {
   "cell_type": "code",
   "execution_count": null,
   "id": "fc2d8472",
   "metadata": {
    "id": "c8f918fe-fea7-4129-a007-3b85a07a8e74",
    "msg_id": "89342e41-4649-4bdd-84c8-0613da15a0a5"
   },
   "outputs": [],
   "source": [
    "@torch.no_grad()\n",
    "def evaluate(model,val_loader):\n",
    "    model.eval()\n",
    "    outputs=[model.validation_step(batch) for batch in val_loader]\n",
    "    return model.validation_epoch_end(outputs)\n",
    "\n",
    "\n",
    "def fit(epochs,lr,model,train_loader,val_loader,opt_func=torch.optim.Adam):\n",
    "    history=[]\n",
    "    optimizer=opt_func(model.parameters(),lr)\n",
    "    for epoch in range(epochs):\n",
    "        model.train()\n",
    "        train_losses=[]\n",
    "        for batch in train_loader:\n",
    "            loss=model.training_step(batch)\n",
    "            train_losses.append(loss)\n",
    "            loss.backward()\n",
    "            optimizer.step()\n",
    "            optimizer.zero_grad()\n",
    "\n",
    "        result=evaluate(model,val_loader)\n",
    "        result['train_loss']=torch.stack(train_losses).mean().item()\n",
    "        model.epoch_end(epoch,result)\n",
    "        history.append(result)\n",
    "    return history"
   ]
  },
  {
   "cell_type": "code",
   "execution_count": null,
   "id": "0534cbe5",
   "metadata": {
    "id": "1b0d12cc-2ffc-4386-84a2-a76c91e9b7b4",
    "msg_id": "0e058b7b-860a-42e3-9b35-26616f7c3799"
   },
   "outputs": [],
   "source": [
    "history=[evaluate(model,val_loader)]\n",
    "history"
   ]
  },
  {
   "cell_type": "code",
   "execution_count": null,
   "id": "28c7cc8f",
   "metadata": {
    "id": "be4a8804-ee6e-43d6-98d2-19a7d235d34b",
    "msg_id": "5c4d4538-9e99-4cea-a783-243bd5de7dd5"
   },
   "outputs": [],
   "source": [
    "history=[]"
   ]
  },
  {
   "cell_type": "code",
   "execution_count": null,
   "id": "4533a886",
   "metadata": {
    "id": "696e746c-74ec-473c-a74a-defae48ec2e3",
    "msg_id": "d9e36d56-854c-4dd7-8095-fdbb38cfc26e"
   },
   "outputs": [],
   "source": [
    "history+=fit(10,0.0001,model,train_loader,val_loader)"
   ]
  },
  {
   "cell_type": "code",
   "execution_count": null,
   "id": "44058a95",
   "metadata": {
    "id": "034c1951-e938-4722-bd18-d1898c36949f",
    "msg_id": "e8db42a7-d856-4e35-91b4-d803354ab39f"
   },
   "outputs": [],
   "source": [
    "history+=fit(10,0.0001,model,train_loader,val_loader)"
   ]
  },
  {
   "cell_type": "code",
   "execution_count": null,
   "id": "454ecdce",
   "metadata": {
    "id": "893e087d-b8bf-4cd6-bd72-a42414a6eb33",
    "msg_id": "266215a6-4c8a-4821-b9ea-a9b7397d5514"
   },
   "outputs": [],
   "source": [
    "history"
   ]
  },
  {
   "cell_type": "code",
   "execution_count": null,
   "id": "3e8d4847",
   "metadata": {
    "id": "6265ce4f-c604-4203-afe2-215f8de18570",
    "msg_id": "53b9f1a3-0a5d-49f2-9763-ff0bf7c2d479"
   },
   "outputs": [],
   "source": [
    "train_losses = [result['train_loss'] for result in history]\n",
    "val_losses = [result['val_loss'] for result in history]"
   ]
  },
  {
   "cell_type": "code",
   "execution_count": null,
   "id": "263617a2",
   "metadata": {
    "id": "6548892a-a559-4490-9b33-41b0382297da",
    "msg_id": "c8c24620-9494-47fb-acae-c7b45e0cb45d"
   },
   "outputs": [],
   "source": [
    "plt.plot(train_losses, '-o', label='Training Loss')\n",
    "plt.plot(val_losses, '-x', label='Validation Loss')\n",
    "\n",
    "plt.xlabel('Epoch')\n",
    "plt.ylabel('Loss')\n",
    "plt.title('Loss vs. Epochs')\n",
    "plt.legend()\n",
    "plt.show()"
   ]
  },
  {
   "cell_type": "code",
   "execution_count": null,
   "id": "cbf4cd03",
   "metadata": {
    "id": "687dfed2-a582-41f9-940b-5f1a1751b615",
    "msg_id": "18a03a1f-52e6-4f03-93bc-770a3e2e3194"
   },
   "outputs": [],
   "source": [
    "accuracies = [result['val_acc'] for result in history]\n",
    "\n",
    "plt.plot(accuracies, '-x', color='green')\n",
    "plt.xlabel('Epoch')\n",
    "plt.ylabel('Accuracy')\n",
    "plt.title('Accuracy vs. No. of Epochs')\n",
    "\n",
    "plt.show()"
   ]
  },
  {
   "cell_type": "code",
   "execution_count": null,
   "id": "d43f644c",
   "metadata": {
    "id": "d2d847c8-e6f5-4289-a1ac-eeae70702f54",
    "msg_id": "9bf9001e-2fee-4161-9db2-31620241b024"
   },
   "outputs": [],
   "source": [
    "import seaborn as sns\n",
    "from sklearn.metrics import classification_report, confusion_matrix\n",
    "\n",
    "model.eval()\n",
    "\n",
    "all_val_preds = []\n",
    "all_val_targets = []\n",
    "\n",
    "\n",
    "with torch.no_grad():\n",
    "    for features, targets in val_loader:\n",
    "      \n",
    "        outputs = model(features)\n",
    "        \n",
    "       \n",
    "        _, predicted = torch.max(outputs.data, 1)\n",
    "        \n",
    "        all_val_preds.extend(predicted.numpy())\n",
    "        all_val_targets.extend(targets.numpy())\n",
    "\n",
    "\n",
    "\n",
    "\n",
    "target_names = ['anomaly (0)', 'normal (1)']\n",
    "\n",
    "\n",
    "report = classification_report(all_val_targets, all_val_preds, target_names=target_names)\n",
    "\n",
    "print(\"\\n--- Classification Report ---\")\n",
    "print(report)\n",
    "\n",
    "\n",
    "\n",
    "cm = confusion_matrix(all_val_targets, all_val_preds)\n",
    "\n",
    "print(\"\\n--- Confusion Matrix ---\")\n",
    "plt.figure(figsize=(6, 5))\n",
    "sns.heatmap(cm, annot=True, fmt='d', cmap='Blues', xticklabels=target_names, yticklabels=target_names)\n",
    "plt.xlabel('Predicted')\n",
    "plt.ylabel('Actual')\n",
    "plt.title('Confusion Matrix')\n",
    "plt.show()"
   ]
  },
  {
   "cell_type": "code",
   "execution_count": null,
   "id": "f57743b7",
   "metadata": {
    "id": "2887388c-1f91-42cf-a36f-bd0be1cfadb6",
    "msg_id": "479856ac-7f3a-424d-8315-f8164e8d6b25"
   },
   "outputs": [],
   "source": [
    "import joblib\n",
    "torch.save(model.state_dict(), 'intrusion_model.pth')\n",
    "\n",
    "\n",
    "joblib.dump(preprocessor, 'preprocessor.joblib')\n",
    "print(\"Model and preprocessor saved successfully!\")"
   ]
  },
  {
   "cell_type": "code",
   "execution_count": null,
   "id": "244f5a6f",
   "metadata": {
    "id": "1704192c-78a4-46ff-aea8-946841009dc5"
   },
   "outputs": [],
   "source": []
  },
  {
   "cell_type": "code",
   "execution_count": null,
   "id": "4814923b",
   "metadata": {
    "id": "50c4a1dc-7c42-4a6d-bd65-e837f2a2ba75"
   },
   "outputs": [],
   "source": []
  },
  {
   "cell_type": "code",
   "execution_count": null,
   "id": "6d1184d7",
   "metadata": {
    "id": "13c41112-05b8-4cc9-8106-a84935530cd8",
    "msg_id": "640ad3f7-d064-4ff8-a87e-eb5a9bceb82a"
   },
   "outputs": [],
   "source": [
    "\n",
    "import os, types\n",
    "import pandas as pd\n",
    "from botocore.client import Config\n",
    "import ibm_boto3\n",
    "\n",
    "def __iter__(self): return 0\n",
    "\n",
    "# @hidden_cell\n",
    "# The following code accesses a file in your IBM Cloud Object Storage. It includes your credentials.\n",
    "# You might want to remove those credentials before you share the notebook.\n",
    "\n",
    "\n",
    "bucket = 'project-donotdelete-pr-xgn2pqshhnke7i'\n",
    "object_key = 'Test_data.csv'\n",
    "\n",
    "body = cos_client.get_object(Bucket=bucket,Key=object_key)['Body']\n",
    "# add missing __iter__ method, so pandas accepts body as file-like object\n",
    "if not hasattr(body, \"__iter__\"): body.__iter__ = types.MethodType( __iter__, body )\n",
    "\n",
    "test_data= pd.read_csv(body)\n",
    "test_data.head(10)\n"
   ]
  },
  {
   "cell_type": "code",
   "execution_count": null,
   "id": "5d65e86a",
   "metadata": {
    "id": "bb1b7695-807d-4362-a9f2-eb39a36ce02e",
    "msg_id": "29b875fd-23ce-438c-a571-2a2ce1d5676d"
   },
   "outputs": [],
   "source": [
    "test_data.info()"
   ]
  },
  {
   "cell_type": "code",
   "execution_count": null,
   "id": "c806afe0",
   "metadata": {
    "id": "d286a0c3-9a86-4cf0-96fa-e4904efe5fce",
    "msg_id": "b97615be-de8e-4360-b148-26c129f6cb27"
   },
   "outputs": [],
   "source": [
    "X_test_processed = preprocessor.transform(test_data)"
   ]
  },
  {
   "cell_type": "code",
   "execution_count": null,
   "id": "dabd88ff",
   "metadata": {
    "id": "901da194-1735-4792-9d8c-43c834e32d3b",
    "msg_id": "4da80ba3-23b4-41de-9f7f-4e438fb4036b"
   },
   "outputs": [],
   "source": [
    "type(X_test_processed)"
   ]
  },
  {
   "cell_type": "code",
   "execution_count": null,
   "id": "ae9c9dc5",
   "metadata": {
    "id": "31b14356-0b19-439a-bd29-6c60ad6f1e83",
    "msg_id": "6414123b-ff1d-4ab6-83c1-79ae07605feb"
   },
   "outputs": [],
   "source": [
    "X_test_tensor = torch.tensor(X_test_processed, dtype=torch.float32)"
   ]
  },
  {
   "cell_type": "code",
   "execution_count": null,
   "id": "6ebe4174",
   "metadata": {
    "id": "9ac1f0ea-315f-4304-90bf-814ca097b4bf",
    "msg_id": "3b08349d-49bc-48f0-8624-1379582d3bc4"
   },
   "outputs": [],
   "source": [
    "model.eval()\n",
    "\n",
    "\n",
    "with torch.no_grad():\n",
    "    outputs = model(X_test_tensor)\n",
    "    _, predicted_indices = torch.max(outputs, dim=1)\n",
    "\n",
    "\n",
    "predictions_list = predicted_indices.numpy().tolist()\n",
    "\n",
    "\n",
    "\n",
    "results_df = test_data.copy()\n",
    "\n",
    "\n",
    "results_df['predicted_class'] = predictions_list\n",
    "\n",
    "# Map the number back to the original label for better readability\n",
    "inverse_class_map = {0: 'anomaly', 1: 'normal'}\n",
    "results_df['predicted_label'] = results_df['predicted_class'].map(inverse_class_map)\n",
    "\n",
    "results_df.drop('predicted_class',axis=1,inplace=True)\n",
    "\n",
    "pd.set_option('display.max_columns', None)\n",
    "pd.set_option('display.width', 1000)\n",
    "\n"
   ]
  },
  {
   "cell_type": "code",
   "execution_count": null,
   "id": "d70339d4",
   "metadata": {
    "id": "a2dbf8c5-1005-4727-a688-35cfa491573b",
    "msg_id": "5765765a-e7f5-48e1-8a18-0ab8da3fe592"
   },
   "outputs": [],
   "source": [
    "results_df.head(10)"
   ]
  },
  {
   "cell_type": "code",
   "execution_count": null,
   "id": "299395fd",
   "metadata": {
    "id": "dfd76cbc-28cd-4394-9fe2-14a6277d715b",
    "msg_id": "4a980afb-6472-481f-942a-c0f671f601bf"
   },
   "outputs": [],
   "source": [
    "df.head()"
   ]
  },
  {
   "cell_type": "code",
   "execution_count": null,
   "id": "3b345fec",
   "metadata": {
    "id": "c471412c-2a82-48f4-8841-e109ec0c2e6b"
   },
   "outputs": [],
   "source": []
  }
 ],
 "metadata": {
  "kernelspec": {
   "display_name": "Python 3.11",
   "language": "python",
   "name": "python3"
  },
  "language_info": {
   "codemirror_mode": {
    "name": "ipython",
    "version": 3
   },
   "file_extension": ".py",
   "mimetype": "text/x-python",
   "name": "python",
   "nbconvert_exporter": "python",
   "pygments_lexer": "ipython3",
   "version": "3.11.13"
  }
 },
 "nbformat": 4,
 "nbformat_minor": 5
}
